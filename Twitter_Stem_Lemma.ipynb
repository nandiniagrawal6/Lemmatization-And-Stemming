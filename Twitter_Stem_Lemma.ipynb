{
 "cells": [
  {
   "cell_type": "markdown",
   "id": "d3e1b05b",
   "metadata": {},
   "source": [
    "# Dataset"
   ]
  },
  {
   "cell_type": "code",
   "execution_count": 3,
   "id": "47b3e161",
   "metadata": {
    "scrolled": true
   },
   "outputs": [
    {
     "data": {
      "text/html": [
       "<div>\n",
       "<style scoped>\n",
       "    .dataframe tbody tr th:only-of-type {\n",
       "        vertical-align: middle;\n",
       "    }\n",
       "\n",
       "    .dataframe tbody tr th {\n",
       "        vertical-align: top;\n",
       "    }\n",
       "\n",
       "    .dataframe thead th {\n",
       "        text-align: right;\n",
       "    }\n",
       "</style>\n",
       "<table border=\"1\" class=\"dataframe\">\n",
       "  <thead>\n",
       "    <tr style=\"text-align: right;\">\n",
       "      <th></th>\n",
       "      <th>Unnamed: 0</th>\n",
       "      <th>User</th>\n",
       "      <th>Followers</th>\n",
       "      <th>Following</th>\n",
       "      <th>Hashtags</th>\n",
       "      <th>Date Created</th>\n",
       "      <th>Number of Likes</th>\n",
       "      <th>Retweet Count</th>\n",
       "      <th>Source of Tweet</th>\n",
       "      <th>Tweet</th>\n",
       "    </tr>\n",
       "  </thead>\n",
       "  <tbody>\n",
       "    <tr>\n",
       "      <th>0</th>\n",
       "      <td>0</td>\n",
       "      <td>Virat Kohli</td>\n",
       "      <td>54141987</td>\n",
       "      <td>61</td>\n",
       "      <td>[]</td>\n",
       "      <td>07-03-2023 14:47</td>\n",
       "      <td>307605</td>\n",
       "      <td>17517</td>\n",
       "      <td>Twitter for Android</td>\n",
       "      <td>Happy Holi to all 🙌🇮🇳 https://t.co/AHWWLI1ojl</td>\n",
       "    </tr>\n",
       "    <tr>\n",
       "      <th>1</th>\n",
       "      <td>1</td>\n",
       "      <td>Virat Kohli</td>\n",
       "      <td>54141987</td>\n",
       "      <td>61</td>\n",
       "      <td>[]</td>\n",
       "      <td>06-03-2023 00:22</td>\n",
       "      <td>359682</td>\n",
       "      <td>19725</td>\n",
       "      <td>Twitter for Android</td>\n",
       "      <td>🕉️ https://t.co/tIwxNVs5KY</td>\n",
       "    </tr>\n",
       "    <tr>\n",
       "      <th>2</th>\n",
       "      <td>2</td>\n",
       "      <td>Virat Kohli</td>\n",
       "      <td>54141987</td>\n",
       "      <td>61</td>\n",
       "      <td>[]</td>\n",
       "      <td>########</td>\n",
       "      <td>932900</td>\n",
       "      <td>600</td>\n",
       "      <td>Twitter for Android</td>\n",
       "      <td>Following this rule change, a few coaches  wer...</td>\n",
       "    </tr>\n",
       "    <tr>\n",
       "      <th>3</th>\n",
       "      <td>3</td>\n",
       "      <td>Virat Kohli</td>\n",
       "      <td>54141987</td>\n",
       "      <td>61</td>\n",
       "      <td>[{'text': 'AddWeightToYourCV', 'indices': [0, ...</td>\n",
       "      <td>27-02-2023 05:00</td>\n",
       "      <td>15466</td>\n",
       "      <td>900</td>\n",
       "      <td>Twitter Media Studio</td>\n",
       "      <td>#AddWeightToYourCV with management programs fr...</td>\n",
       "    </tr>\n",
       "    <tr>\n",
       "      <th>4</th>\n",
       "      <td>4</td>\n",
       "      <td>Virat Kohli</td>\n",
       "      <td>54141987</td>\n",
       "      <td>61</td>\n",
       "      <td>[]</td>\n",
       "      <td>25-02-2023 05:19</td>\n",
       "      <td>27386</td>\n",
       "      <td>1479</td>\n",
       "      <td>Twitter for Android</td>\n",
       "      <td>The drive to grow with every experience is pro...</td>\n",
       "    </tr>\n",
       "    <tr>\n",
       "      <th>5</th>\n",
       "      <td>5</td>\n",
       "      <td>Virat Kohli</td>\n",
       "      <td>54141987</td>\n",
       "      <td>61</td>\n",
       "      <td>[{'text': 'NayaSher', 'indices': [41, 50]}]</td>\n",
       "      <td>23-02-2023 05:00</td>\n",
       "      <td>29820</td>\n",
       "      <td>1628</td>\n",
       "      <td>Twitter for Android</td>\n",
       "      <td>Get ready to unleash your bold side with #Naya...</td>\n",
       "    </tr>\n",
       "    <tr>\n",
       "      <th>6</th>\n",
       "      <td>6</td>\n",
       "      <td>Virat Kohli</td>\n",
       "      <td>54141987</td>\n",
       "      <td>61</td>\n",
       "      <td>[]</td>\n",
       "      <td>21-02-2023 05:03</td>\n",
       "      <td>71257</td>\n",
       "      <td>3430</td>\n",
       "      <td>Twitter for Android</td>\n",
       "      <td>Get ready for a grassroots football revolution...</td>\n",
       "    </tr>\n",
       "    <tr>\n",
       "      <th>7</th>\n",
       "      <td>7</td>\n",
       "      <td>Virat Kohli</td>\n",
       "      <td>54141987</td>\n",
       "      <td>61</td>\n",
       "      <td>[]</td>\n",
       "      <td>20-02-2023 05:00</td>\n",
       "      <td>21332</td>\n",
       "      <td>1343</td>\n",
       "      <td>Twitter Media Studio</td>\n",
       "      <td>Lesser-known facts! \\nCatch me spill the beans...</td>\n",
       "    </tr>\n",
       "    <tr>\n",
       "      <th>8</th>\n",
       "      <td>8</td>\n",
       "      <td>Virat Kohli</td>\n",
       "      <td>54141987</td>\n",
       "      <td>61</td>\n",
       "      <td>[]</td>\n",
       "      <td>19-02-2023 09:25</td>\n",
       "      <td>206263</td>\n",
       "      <td>11881</td>\n",
       "      <td>Twitter for Android</td>\n",
       "      <td>Delhi done. Two in a row. 🇮🇳✅ https://t.co/99Y...</td>\n",
       "    </tr>\n",
       "    <tr>\n",
       "      <th>9</th>\n",
       "      <td>9</td>\n",
       "      <td>Virat Kohli</td>\n",
       "      <td>54141987</td>\n",
       "      <td>61</td>\n",
       "      <td>[]</td>\n",
       "      <td>14-02-2023 04:48</td>\n",
       "      <td>47902</td>\n",
       "      <td>2458</td>\n",
       "      <td>Twitter for Android</td>\n",
       "      <td>Can’t tell you how excited I was to unbox my n...</td>\n",
       "    </tr>\n",
       "    <tr>\n",
       "      <th>10</th>\n",
       "      <td>10</td>\n",
       "      <td>Virat Kohli</td>\n",
       "      <td>54141987</td>\n",
       "      <td>61</td>\n",
       "      <td>[]</td>\n",
       "      <td>12-02-2023 17:04</td>\n",
       "      <td>36236</td>\n",
       "      <td>2466</td>\n",
       "      <td>Twitter for Android</td>\n",
       "      <td>(2/2) The women’s team is taking such giant le...</td>\n",
       "    </tr>\n",
       "  </tbody>\n",
       "</table>\n",
       "</div>"
      ],
      "text/plain": [
       "    Unnamed: 0         User  Followers  Following  \\\n",
       "0            0  Virat Kohli   54141987         61   \n",
       "1            1  Virat Kohli   54141987         61   \n",
       "2            2  Virat Kohli   54141987         61   \n",
       "3            3  Virat Kohli   54141987         61   \n",
       "4            4  Virat Kohli   54141987         61   \n",
       "5            5  Virat Kohli   54141987         61   \n",
       "6            6  Virat Kohli   54141987         61   \n",
       "7            7  Virat Kohli   54141987         61   \n",
       "8            8  Virat Kohli   54141987         61   \n",
       "9            9  Virat Kohli   54141987         61   \n",
       "10          10  Virat Kohli   54141987         61   \n",
       "\n",
       "                                             Hashtags      Date Created  \\\n",
       "0                                                  []  07-03-2023 14:47   \n",
       "1                                                  []  06-03-2023 00:22   \n",
       "2                                                  []          ########   \n",
       "3   [{'text': 'AddWeightToYourCV', 'indices': [0, ...  27-02-2023 05:00   \n",
       "4                                                  []  25-02-2023 05:19   \n",
       "5         [{'text': 'NayaSher', 'indices': [41, 50]}]  23-02-2023 05:00   \n",
       "6                                                  []  21-02-2023 05:03   \n",
       "7                                                  []  20-02-2023 05:00   \n",
       "8                                                  []  19-02-2023 09:25   \n",
       "9                                                  []  14-02-2023 04:48   \n",
       "10                                                 []  12-02-2023 17:04   \n",
       "\n",
       "    Number of Likes  Retweet Count       Source of Tweet  \\\n",
       "0            307605          17517   Twitter for Android   \n",
       "1            359682          19725   Twitter for Android   \n",
       "2            932900            600   Twitter for Android   \n",
       "3             15466            900  Twitter Media Studio   \n",
       "4             27386           1479   Twitter for Android   \n",
       "5             29820           1628   Twitter for Android   \n",
       "6             71257           3430   Twitter for Android   \n",
       "7             21332           1343  Twitter Media Studio   \n",
       "8            206263          11881   Twitter for Android   \n",
       "9             47902           2458   Twitter for Android   \n",
       "10            36236           2466   Twitter for Android   \n",
       "\n",
       "                                                Tweet  \n",
       "0       Happy Holi to all 🙌🇮🇳 https://t.co/AHWWLI1ojl  \n",
       "1                          🕉️ https://t.co/tIwxNVs5KY  \n",
       "2   Following this rule change, a few coaches  wer...  \n",
       "3   #AddWeightToYourCV with management programs fr...  \n",
       "4   The drive to grow with every experience is pro...  \n",
       "5   Get ready to unleash your bold side with #Naya...  \n",
       "6   Get ready for a grassroots football revolution...  \n",
       "7   Lesser-known facts! \\nCatch me spill the beans...  \n",
       "8   Delhi done. Two in a row. 🇮🇳✅ https://t.co/99Y...  \n",
       "9   Can’t tell you how excited I was to unbox my n...  \n",
       "10  (2/2) The women’s team is taking such giant le...  "
      ]
     },
     "execution_count": 3,
     "metadata": {},
     "output_type": "execute_result"
    }
   ],
   "source": [
    "import pandas as pd\n",
    "\n",
    "data = pd.read_csv('twitter_dataset.csv')\n",
    "data"
   ]
  },
  {
   "cell_type": "markdown",
   "id": "2c410c80",
   "metadata": {},
   "source": [
    "# Row"
   ]
  },
  {
   "cell_type": "code",
   "execution_count": 4,
   "id": "255db80a",
   "metadata": {},
   "outputs": [
    {
     "data": {
      "text/plain": [
       "'Following this rule change, a few coaches  were frightened that participants might try to bait other players in order to draw penalties and rejections.'"
      ]
     },
     "execution_count": 4,
     "metadata": {},
     "output_type": "execute_result"
    }
   ],
   "source": [
    "only_row = data.loc[2, \"Tweet\"]\n",
    "only_row"
   ]
  },
  {
   "cell_type": "markdown",
   "id": "e110ef3b",
   "metadata": {},
   "source": [
    "# String to list"
   ]
  },
  {
   "cell_type": "code",
   "execution_count": 5,
   "id": "395ee812",
   "metadata": {},
   "outputs": [
    {
     "data": {
      "text/plain": [
       "['Following',\n",
       " 'this',\n",
       " 'rule',\n",
       " 'change,',\n",
       " 'a',\n",
       " 'few',\n",
       " 'coaches',\n",
       " 'were',\n",
       " 'frightened',\n",
       " 'that',\n",
       " 'participants',\n",
       " 'might',\n",
       " 'try',\n",
       " 'to',\n",
       " 'bait',\n",
       " 'other',\n",
       " 'players',\n",
       " 'in',\n",
       " 'order',\n",
       " 'to',\n",
       " 'draw',\n",
       " 'penalties',\n",
       " 'and',\n",
       " 'rejections.']"
      ]
     },
     "execution_count": 5,
     "metadata": {},
     "output_type": "execute_result"
    }
   ],
   "source": [
    "list_1 = only_row.split()\n",
    "list_1"
   ]
  },
  {
   "cell_type": "markdown",
   "id": "89d9d238",
   "metadata": {},
   "source": [
    "# Install The Required Libraries "
   ]
  },
  {
   "cell_type": "code",
   "execution_count": 10,
   "id": "a45739b3",
   "metadata": {},
   "outputs": [],
   "source": [
    "# natural language toolkit"
   ]
  },
  {
   "cell_type": "code",
   "execution_count": 9,
   "id": "9a4cc013",
   "metadata": {},
   "outputs": [
    {
     "name": "stdout",
     "output_type": "stream",
     "text": [
      "Requirement already satisfied: nltk in c:\\users\\parth\\appdata\\local\\programs\\python\\python311\\lib\\site-packages (3.8.1)\n",
      "Requirement already satisfied: click in c:\\users\\parth\\appdata\\local\\programs\\python\\python311\\lib\\site-packages (from nltk) (8.1.3)\n",
      "Requirement already satisfied: joblib in c:\\users\\parth\\appdata\\local\\programs\\python\\python311\\lib\\site-packages (from nltk) (1.2.0)\n",
      "Requirement already satisfied: regex>=2021.8.3 in c:\\users\\parth\\appdata\\local\\programs\\python\\python311\\lib\\site-packages (from nltk) (2022.10.31)\n",
      "Requirement already satisfied: tqdm in c:\\users\\parth\\appdata\\local\\programs\\python\\python311\\lib\\site-packages (from nltk) (4.65.0)\n",
      "Requirement already satisfied: colorama in c:\\users\\parth\\appdata\\local\\programs\\python\\python311\\lib\\site-packages (from click->nltk) (0.4.6)\n",
      "Note: you may need to restart the kernel to use updated packages.\n"
     ]
    },
    {
     "name": "stderr",
     "output_type": "stream",
     "text": [
      "\n",
      "[notice] A new release of pip available: 22.3.1 -> 23.0.1\n",
      "[notice] To update, run: C:\\Users\\Parth\\AppData\\Local\\Programs\\Python\\Python311\\python.exe -m pip install --upgrade pip\n"
     ]
    }
   ],
   "source": [
    "pip install nltk"
   ]
  },
  {
   "cell_type": "code",
   "execution_count": 8,
   "id": "9d378370",
   "metadata": {},
   "outputs": [
    {
     "name": "stdout",
     "output_type": "stream",
     "text": [
      "Collecting PorterStemmer\n",
      "  Using cached PorterStemmer-0.5.tar.gz (5.7 kB)\n",
      "  Preparing metadata (setup.py): started\n",
      "  Preparing metadata (setup.py): finished with status 'done'\n",
      "Installing collected packages: PorterStemmer\n",
      "  Running setup.py install for PorterStemmer: started\n",
      "  Running setup.py install for PorterStemmer: finished with status 'error'\n",
      "Note: you may need to restart the kernel to use updated packages.\n"
     ]
    },
    {
     "name": "stderr",
     "output_type": "stream",
     "text": [
      "  DEPRECATION: PorterStemmer is being installed using the legacy 'setup.py install' method, because it does not have a 'pyproject.toml' and the 'wheel' package is not installed. pip 23.1 will enforce this behaviour change. A possible replacement is to enable the '--use-pep517' option. Discussion can be found at https://github.com/pypa/pip/issues/8559\n",
      "  error: subprocess-exited-with-error\n",
      "  \n",
      "  Running setup.py install for PorterStemmer did not run successfully.\n",
      "  exit code: 1\n",
      "  \n",
      "  [7 lines of output]\n",
      "  running install\n",
      "  C:\\Users\\Parth\\AppData\\Local\\Programs\\Python\\Python311\\Lib\\site-packages\\setuptools\\command\\install.py:34: SetuptoolsDeprecationWarning: setup.py install is deprecated. Use build and pip and other standards-based tools.\n",
      "    warnings.warn(\n",
      "  running build\n",
      "  running build_ext\n",
      "  building 'porterstemmer' extension\n",
      "  error: Microsoft Visual C++ 14.0 or greater is required. Get it with \"Microsoft C++ Build Tools\": https://visualstudio.microsoft.com/visual-cpp-build-tools/\n",
      "  [end of output]\n",
      "  \n",
      "  note: This error originates from a subprocess, and is likely not a problem with pip.\n",
      "error: legacy-install-failure\n",
      "\n",
      "Encountered error while trying to install package.\n",
      "\n",
      "PorterStemmer\n",
      "\n",
      "note: This is an issue with the package mentioned above, not pip.\n",
      "hint: See above for output from the failure.\n",
      "\n",
      "[notice] A new release of pip available: 22.3.1 -> 23.0.1\n",
      "[notice] To update, run: C:\\Users\\Parth\\AppData\\Local\\Programs\\Python\\Python311\\python.exe -m pip install --upgrade pip\n"
     ]
    }
   ],
   "source": [
    "pip install PorterStemmer"
   ]
  },
  {
   "cell_type": "markdown",
   "id": "02776354",
   "metadata": {},
   "source": [
    "# Stemming "
   ]
  },
  {
   "cell_type": "code",
   "execution_count": 11,
   "id": "4ee15828",
   "metadata": {},
   "outputs": [
    {
     "name": "stdout",
     "output_type": "stream",
     "text": [
      "Following ---> follow\n",
      "this ---> thi\n",
      "rule ---> rule\n",
      "change, ---> change,\n",
      "a ---> a\n",
      "few ---> few\n",
      "coaches ---> coach\n",
      "were ---> were\n",
      "frightened ---> frighten\n",
      "that ---> that\n",
      "participants ---> particip\n",
      "might ---> might\n",
      "try ---> tri\n",
      "to ---> to\n",
      "bait ---> bait\n",
      "other ---> other\n",
      "players ---> player\n",
      "in ---> in\n",
      "order ---> order\n",
      "to ---> to\n",
      "draw ---> draw\n",
      "penalties ---> penalti\n",
      "and ---> and\n",
      "rejections. ---> rejections.\n"
     ]
    }
   ],
   "source": [
    "import nltk\n",
    "\n",
    "from nltk.stem import PorterStemmer\n",
    "\n",
    "stemmer = PorterStemmer()\n",
    "\n",
    "for word in list_1:\n",
    "    print(word + \" ---> \" + stemmer.stem(word))\n",
    "    "
   ]
  },
  {
   "cell_type": "markdown",
   "id": "53cda4e4",
   "metadata": {},
   "source": [
    "# Lemmatization"
   ]
  },
  {
   "cell_type": "code",
   "execution_count": null,
   "id": "b556fe7b",
   "metadata": {},
   "outputs": [],
   "source": [
    "# Approaches To Perform Lemmatization\n",
    "\n",
    "# 1] wordnet lemmatizer with pos tag,\n",
    "# 2] treetagger, \n",
    "# 3] textblob,\n",
    "# 4] spacy lemmatizer\n",
    "\n",
    "#pip install WordNetLemmatizer"
   ]
  },
  {
   "cell_type": "code",
   "execution_count": 12,
   "id": "71614ef3",
   "metadata": {},
   "outputs": [
    {
     "name": "stdout",
     "output_type": "stream",
     "text": [
      "Note: you may need to restart the kernel to use updated packages.\n"
     ]
    },
    {
     "name": "stderr",
     "output_type": "stream",
     "text": [
      "ERROR: Could not find a version that satisfies the requirement WordNetLemmatizer (from versions: none)\n",
      "ERROR: No matching distribution found for WordNetLemmatizer\n",
      "\n",
      "[notice] A new release of pip available: 22.3.1 -> 23.0.1\n",
      "[notice] To update, run: C:\\Users\\Parth\\AppData\\Local\\Programs\\Python\\Python311\\python.exe -m pip install --upgrade pip\n"
     ]
    }
   ],
   "source": [
    "pip install WordNetLemmatizer"
   ]
  },
  {
   "cell_type": "code",
   "execution_count": 13,
   "id": "c30e516d",
   "metadata": {},
   "outputs": [
    {
     "name": "stderr",
     "output_type": "stream",
     "text": [
      "[nltk_data] Downloading package wordnet to\n",
      "[nltk_data]     C:\\Users\\Parth\\AppData\\Roaming\\nltk_data...\n",
      "[nltk_data]   Package wordnet is already up-to-date!\n"
     ]
    },
    {
     "data": {
      "text/plain": [
       "True"
      ]
     },
     "execution_count": 13,
     "metadata": {},
     "output_type": "execute_result"
    }
   ],
   "source": [
    "nltk.download('wordnet')"
   ]
  },
  {
   "cell_type": "code",
   "execution_count": 14,
   "id": "7c65557e",
   "metadata": {},
   "outputs": [
    {
     "name": "stderr",
     "output_type": "stream",
     "text": [
      "[nltk_data] Downloading package wordnet to\n",
      "[nltk_data]     C:\\Users\\Parth\\AppData\\Roaming\\nltk_data...\n",
      "[nltk_data]   Package wordnet is already up-to-date!\n"
     ]
    },
    {
     "name": "stdout",
     "output_type": "stream",
     "text": [
      "Following ---> Following\n",
      "this ---> this\n",
      "rule ---> rule\n",
      "change, ---> change,\n",
      "a ---> a\n",
      "few ---> few\n",
      "coaches ---> coach\n",
      "were ---> were\n",
      "frightened ---> frightened\n",
      "that ---> that\n",
      "participants ---> participant\n",
      "might ---> might\n",
      "try ---> try\n",
      "to ---> to\n",
      "bait ---> bait\n",
      "other ---> other\n",
      "players ---> player\n",
      "in ---> in\n",
      "order ---> order\n",
      "to ---> to\n",
      "draw ---> draw\n",
      "penalties ---> penalty\n",
      "and ---> and\n",
      "rejections. ---> rejections.\n"
     ]
    }
   ],
   "source": [
    "import nltk\n",
    "\n",
    "nltk.download('wordnet')\n",
    "\n",
    "from nltk.stem import WordNetLemmatizer\n",
    "\n",
    "wnl = WordNetLemmatizer()\n",
    "\n",
    "for words in list_1:\n",
    "    print(words + \" ---> \" + wnl.lemmatize(words))"
   ]
  },
  {
   "cell_type": "markdown",
   "id": "fe1a1981",
   "metadata": {},
   "source": [
    "# Comparision"
   ]
  },
  {
   "cell_type": "code",
   "execution_count": 15,
   "id": "1b2e5289",
   "metadata": {},
   "outputs": [
    {
     "name": "stdout",
     "output_type": "stream",
     "text": [
      "['Following', 'this', 'rule', 'change,', 'a', 'few', 'coach', 'were', 'frightened', 'that', 'participant', 'might', 'try', 'to', 'bait', 'other', 'player', 'in', 'order', 'to', 'draw', 'penalty', 'and', 'rejections.']\n"
     ]
    }
   ],
   "source": [
    "#wnl = WordNetLemmatizer()\n",
    "\n",
    "lemma_word = []\n",
    "\n",
    "for words in list_1:\n",
    "    lemma_word.append(wnl.lemmatize(words))\n",
    "\n",
    "print(lemma_word)"
   ]
  },
  {
   "cell_type": "code",
   "execution_count": 16,
   "id": "5dc41590",
   "metadata": {},
   "outputs": [
    {
     "name": "stdout",
     "output_type": "stream",
     "text": [
      "['follow', 'thi', 'rule', 'change,', 'a', 'few', 'coach', 'were', 'frighten', 'that', 'particip', 'might', 'tri', 'to', 'bait', 'other', 'player', 'in', 'order', 'to', 'draw', 'penalti', 'and', 'rejections.']\n"
     ]
    }
   ],
   "source": [
    "# import nltk\n",
    "# from nltk.stem import PorterStemmer\n",
    "# stemmer = PorterStemmer()\n",
    "\n",
    "stem_word = []\n",
    "\n",
    "for word in list_1:\n",
    "    stem_word.append(stemmer.stem(word))\n",
    "\n",
    "print(stem_word)"
   ]
  },
  {
   "cell_type": "code",
   "execution_count": 17,
   "id": "9db33d6d",
   "metadata": {
    "scrolled": false
   },
   "outputs": [
    {
     "data": {
      "text/html": [
       "<div>\n",
       "<style scoped>\n",
       "    .dataframe tbody tr th:only-of-type {\n",
       "        vertical-align: middle;\n",
       "    }\n",
       "\n",
       "    .dataframe tbody tr th {\n",
       "        vertical-align: top;\n",
       "    }\n",
       "\n",
       "    .dataframe thead th {\n",
       "        text-align: right;\n",
       "    }\n",
       "</style>\n",
       "<table border=\"1\" class=\"dataframe\">\n",
       "  <thead>\n",
       "    <tr style=\"text-align: right;\">\n",
       "      <th></th>\n",
       "      <th>Original Sentence</th>\n",
       "      <th>Lemmatized_text</th>\n",
       "      <th>Stemmed_text</th>\n",
       "    </tr>\n",
       "  </thead>\n",
       "  <tbody>\n",
       "    <tr>\n",
       "      <th>0</th>\n",
       "      <td>[Following, this, rule, change,, a, few, coach...</td>\n",
       "      <td>[Following, this, rule, change,, a, few, coach...</td>\n",
       "      <td>[follow, thi, rule, change,, a, few, coach, we...</td>\n",
       "    </tr>\n",
       "  </tbody>\n",
       "</table>\n",
       "</div>"
      ],
      "text/plain": [
       "                                   Original Sentence  \\\n",
       "0  [Following, this, rule, change,, a, few, coach...   \n",
       "\n",
       "                                     Lemmatized_text  \\\n",
       "0  [Following, this, rule, change,, a, few, coach...   \n",
       "\n",
       "                                        Stemmed_text  \n",
       "0  [follow, thi, rule, change,, a, few, coach, we...  "
      ]
     },
     "execution_count": 17,
     "metadata": {},
     "output_type": "execute_result"
    }
   ],
   "source": [
    "final = {\n",
    "            'Original Sentence' : [list_1],\n",
    "             'Lemmatized_text' : [lemma_word],\n",
    "             'Stemmed_text' : [stem_word],\n",
    "           }\n",
    "\n",
    "df = pd.DataFrame(final)\n",
    "df"
   ]
  },
  {
   "cell_type": "code",
   "execution_count": 18,
   "id": "e45ec92b",
   "metadata": {},
   "outputs": [
    {
     "data": {
      "text/html": [
       "<div>\n",
       "<style scoped>\n",
       "    .dataframe tbody tr th:only-of-type {\n",
       "        vertical-align: middle;\n",
       "    }\n",
       "\n",
       "    .dataframe tbody tr th {\n",
       "        vertical-align: top;\n",
       "    }\n",
       "\n",
       "    .dataframe thead th {\n",
       "        text-align: right;\n",
       "    }\n",
       "</style>\n",
       "<table border=\"1\" class=\"dataframe\">\n",
       "  <thead>\n",
       "    <tr style=\"text-align: right;\">\n",
       "      <th></th>\n",
       "      <th>Original Sentence</th>\n",
       "      <th>Lemmatized_text</th>\n",
       "      <th>Stemmed_text</th>\n",
       "    </tr>\n",
       "  </thead>\n",
       "  <tbody>\n",
       "    <tr>\n",
       "      <th>0</th>\n",
       "      <td>[Following, this, rule, change,, a, few, coaches, were, frightened, that, participants, might, try, to, bait, other, players, in, order, to, draw, penalties, and, rejections.]</td>\n",
       "      <td>[Following, this, rule, change,, a, few, coach, were, frightened, that, participant, might, try, to, bait, other, player, in, order, to, draw, penalty, and, rejections.]</td>\n",
       "      <td>[follow, thi, rule, change,, a, few, coach, were, frighten, that, particip, might, tri, to, bait, other, player, in, order, to, draw, penalti, and, rejections.]</td>\n",
       "    </tr>\n",
       "  </tbody>\n",
       "</table>\n",
       "</div>"
      ],
      "text/plain": [
       "                                                                                                                                                                 Original Sentence  \\\n",
       "0  [Following, this, rule, change,, a, few, coaches, were, frightened, that, participants, might, try, to, bait, other, players, in, order, to, draw, penalties, and, rejections.]   \n",
       "\n",
       "                                                                                                                                                             Lemmatized_text  \\\n",
       "0  [Following, this, rule, change,, a, few, coach, were, frightened, that, participant, might, try, to, bait, other, player, in, order, to, draw, penalty, and, rejections.]   \n",
       "\n",
       "                                                                                                                                                       Stemmed_text  \n",
       "0  [follow, thi, rule, change,, a, few, coach, were, frighten, that, particip, might, tri, to, bait, other, player, in, order, to, draw, penalti, and, rejections.]  "
      ]
     },
     "execution_count": 18,
     "metadata": {},
     "output_type": "execute_result"
    }
   ],
   "source": [
    " pd.set_option('display.max_colwidth',200)\n",
    "df"
   ]
  },
  {
   "cell_type": "code",
   "execution_count": null,
   "id": "aa82f0fe",
   "metadata": {},
   "outputs": [],
   "source": []
  },
  {
   "cell_type": "code",
   "execution_count": null,
   "id": "043e33b4",
   "metadata": {},
   "outputs": [],
   "source": []
  },
  {
   "cell_type": "code",
   "execution_count": null,
   "id": "093d55d5",
   "metadata": {},
   "outputs": [],
   "source": []
  }
 ],
 "metadata": {
  "kernelspec": {
   "display_name": "Python 3 (ipykernel)",
   "language": "python",
   "name": "python3"
  },
  "language_info": {
   "codemirror_mode": {
    "name": "ipython",
    "version": 3
   },
   "file_extension": ".py",
   "mimetype": "text/x-python",
   "name": "python",
   "nbconvert_exporter": "python",
   "pygments_lexer": "ipython3",
   "version": "3.11.1"
  }
 },
 "nbformat": 4,
 "nbformat_minor": 5
}
